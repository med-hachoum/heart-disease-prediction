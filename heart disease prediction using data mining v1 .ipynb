{
 "cells": [
  {
   "cell_type": "markdown",
   "metadata": {},
   "source": [
    "\n",
    "<h1>heart disease prediction using data mining</h1>\n",
    "<h2>by Muhamed Hachoum , Kaggle</h2>\n",
    "\n",
    "<h3>Framingham DataSet</h3>\n",
    "Framingham Heart study dataset includes several demographic risk factors:-\n",
    "sex: male or female;\n",
    "age: age of the patient;\n",
    "education: levels coded 1 for some high school, 2 for a high school diploma or GED, 3 for some college or vocational school, and 4 for a college degree.\n",
    "\n",
    "The data set also includes behavioral risk factors associated with smoking\n",
    "currentSmoker: whether or not the patient is a current smoker\n",
    "cigsPerDay: the number of cigarettes that the person smoked on average in one day.\n",
    "\n",
    "Medical history risk factors\n",
    "BPMeds: whether or not the patient was on blood pressure medication\n",
    "prevalentStroke: whether or not the patient had previously had a stroke\n",
    "prevalentHyp: whether or not the patient was hypertensive\n",
    "diabetes: whether or not the patient had diabetes\n",
    "\n",
    "Risk factors from the first physical examination of the patient.\n",
    "\n",
    "totChol: total cholesterol level\n",
    "sysBP: systolic blood pressure\n",
    "diaBP: diastolic blood pressure\n",
    "BMI: Body Mass Index\n",
    "heartRate: heart rate\n",
    "glucose: glucose level\n",
    "TenYearCHD: 10 year risk of coronary heart disease CHD"
   ]
  },
  {
   "cell_type": "code",
   "execution_count": null,
   "metadata": {
    "collapsed": true
   },
   "outputs": [],
   "source": []
  },
  {
   "cell_type": "code",
   "execution_count": 2,
   "metadata": {
    "collapsed": true
   },
   "outputs": [],
   "source": [
    "import warnings\n",
    "warnings.filterwarnings('ignore')\n",
    "\n",
    "%config IPCompleter.greedy=True\n",
    "\n",
    "%matplotlib inline\n",
    "import matplotlib.pyplot as plt\n",
    "import random\n",
    "import numpy as np\n",
    "import pandas as pd\n",
    "\n",
    "from sklearn.cross_validation import train_test_split\n",
    "from sklearn.tree import DecisionTreeClassifier\n",
    "from sklearn.metrics import accuracy_score\n",
    "from sklearn import tree    \n",
    "\n",
    "\n",
    "    \n",
    "import seaborn as sns\n",
    "sns.set(color_codes=True)"
   ]
  },
  {
   "cell_type": "code",
   "execution_count": 1,
   "metadata": {},
   "outputs": [
    {
     "ename": "NameError",
     "evalue": "name 'رر' is not defined",
     "output_type": "error",
     "traceback": [
      "\u001b[1;31m---------------------------------------------------------------------------\u001b[0m",
      "\u001b[1;31mNameError\u001b[0m                                 Traceback (most recent call last)",
      "\u001b[1;32m<ipython-input-1-511f8935f2a0>\u001b[0m in \u001b[0;36m<module>\u001b[1;34m()\u001b[0m\n\u001b[1;32m----> 1\u001b[1;33m \u001b[0mرر\u001b[0m\u001b[1;33m\u001b[0m\u001b[0m\n\u001b[0m",
      "\u001b[1;31mNameError\u001b[0m: name 'رر' is not defined"
     ]
    }
   ],
   "source": [
    "رر"
   ]
  },
  {
   "cell_type": "code",
   "execution_count": null,
   "metadata": {
    "collapsed": true
   },
   "outputs": [],
   "source": []
  }
 ],
 "metadata": {
  "kernelspec": {
   "display_name": "Python 3",
   "language": "python",
   "name": "python3"
  },
  "language_info": {
   "codemirror_mode": {
    "name": "ipython",
    "version": 3
   },
   "file_extension": ".py",
   "mimetype": "text/x-python",
   "name": "python",
   "nbconvert_exporter": "python",
   "pygments_lexer": "ipython3",
   "version": "3.6.3"
  }
 },
 "nbformat": 4,
 "nbformat_minor": 2
}
